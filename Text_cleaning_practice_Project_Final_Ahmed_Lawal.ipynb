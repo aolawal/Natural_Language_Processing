{
  "nbformat": 4,
  "nbformat_minor": 0,
  "metadata": {
    "colab": {
      "provenance": []
    },
    "kernelspec": {
      "name": "python3",
      "display_name": "Python 3"
    },
    "language_info": {
      "name": "python"
    }
  },
  "cells": [
    {
      "cell_type": "markdown",
      "source": [
        "#Project - Text Cleaning NLP"
      ],
      "metadata": {
        "id": "uLh3r1O3EqPH"
      }
    },
    {
      "cell_type": "markdown",
      "source": [
        "\n",
        "##Application of various NLP techniques to a small set of medical texts.\n",
        "\n",
        "##This project will help demonstrate a few basic cleaning tasks in NLP"
      ],
      "metadata": {
        "id": "48GN-laRGhYg"
      }
    },
    {
      "cell_type": "code",
      "execution_count": null,
      "metadata": {
        "id": "OePGg1G-GZ0Q"
      },
      "outputs": [],
      "source": [
        "medical_texts = [\n",
        "    \"Diabetes mellitus (DM), commonly known as diabetes, is a group of metabolic disorders characterized by a high blood sugar level over a prolonged period of time.\",\n",
        "    \"Symptoms of high blood sugar include frequent urination, increased thirst, and increased hunger.\",\n",
        "    \"Cancer is a group of diseases involving abnormal cell growth with the potential to invade or spread to other parts of the body.\",\n",
        "    \"These contrast with benign tumors, which do not spread. Treatment options may include surgery, radiation therapy, chemotherapy, or palliation.\",\n",
        "    \"Hypertension, also known as high blood pressure (HBP), is a long-term medical condition in which the blood pressure in the arteries is persistently elevated.\"\n",
        "]\n"
      ]
    },
    {
      "cell_type": "markdown",
      "source": [
        "1. Lowercase Conversion:\n",
        "\n",
        "  Task: Convert all the text entries in medical_texts to lowercase.\n",
        "  Objective: Standardize the text to eliminate case sensitivity issues in subsequent analyses.\n",
        "\n",
        "2.   Remove all stopwords from the texts using a comprehensive medical stopword list (students can be directed to use a custom list or a library such as NLTK for general English stopwords).\n",
        "Objective: Eliminate common words that may not contribute useful information to the analysis.\n",
        "\n",
        "3. Punctuation Removal:\n",
        "\n",
        "  Task: Remove all punctuation from the texts in medical_texts.\n",
        "  Objective: Simplify the text for easier tokenization and analysis.\n",
        "  Regular Expression Filtering:\n",
        "\n",
        "4. Use regular expression to   the dataset to include only texts containing any of the following keywords: ['diabetes', 'cancer', 'hypertension'].\n",
        "Objective: Focus the dataset on texts related to specific medical conditions for targeted analysis.\n",
        "\n",
        "4. Lemmatization:\n",
        "Task: Apply lemmatization to the texts to reduce words to their base or dictionary form.\n",
        "Objective: Normalize word forms to ensure that variations of a word are processed as a single item.\n",
        "Stopword Removal:\n",
        "\n",
        "\n",
        "5. Bonus - Comprehensive Preprocessing Function:\n",
        "\n",
        "  Create a function you can call it  clean_medical_text(text) that incorporates all the preprocessing steps: normalization, punctuation removal, keyword filtering, lemmatization, and stopword removal.\n",
        "  Objective: Produce a clean output from any given medical text, demonstrating how to streamline these preprocessing steps into a single, reusable function.\n",
        "## Instructions:\n",
        "Implement each task in Python using libraries such as NLTK for NLP-related tasks and re for regular expressions.\n",
        "Provide detailed explanations for your choices in preprocessing techniques and discuss their impact on the dataset.\n",
        "Include comments in your code to explain the purpose and function of each code block.\n",
        "\n",
        "## Submission:\n",
        "  Submit a well-documented Jupyter Notebook containing all code and comment in google colab.\n",
        "  Ensure your final function is tested with examples from medical_texts to demonstrate its effectiveness."
      ],
      "metadata": {
        "id": "XenK9WjSHCqN"
      }
    },
    {
      "cell_type": "markdown",
      "source": [
        "NLP - Data Preprocessing"
      ],
      "metadata": {
        "id": "c8NteAxZ6ieM"
      }
    },
    {
      "cell_type": "code",
      "execution_count": null,
      "metadata": {
        "id": "lpYnB4is64gA"
      },
      "outputs": [],
      "source": [
        "medical_texts = [\n",
        "    \"Diabetes mellitus (DM), commonly known as diabetes, is a group of metabolic disorders characterized by a high blood sugar level over a prolonged period of time.\",\n",
        "    \"Symptoms of high blood sugar include frequent urination, increased thirst, and increased hunger.\",\n",
        "    \"Cancer is a group of diseases involving abnormal cell growth with the potential to invade or spread to other parts of the body.\",\n",
        "    \"These contrast with benign tumors, which do not spread. Treatment options may include surgery, radiation therapy, chemotherapy, or palliation.\",\n",
        "    \"Hypertension, also known as high blood pressure (HBP), is a long-term medical condition in which the blood pressure in the arteries is persistently elevated.\"\n",
        "]"
      ]
    },
    {
      "cell_type": "markdown",
      "source": [
        "1. Standardizing: the text to eliminate case sensitivity issues -  Converting all the text entries in medical_texts to lowercase"
      ],
      "metadata": {
        "id": "Jan40tbK7KLa"
      }
    },
    {
      "cell_type": "code",
      "source": [
        "!pip install spicy"
      ],
      "metadata": {
        "id": "EHC5tTTs68gr",
        "outputId": "c4ac2f35-2b99-48d7-b4a5-91f12e45cbe9",
        "colab": {
          "base_uri": "https://localhost:8080/"
        }
      },
      "execution_count": null,
      "outputs": [
        {
          "output_type": "stream",
          "name": "stdout",
          "text": [
            "Requirement already satisfied: spicy in /usr/local/lib/python3.11/dist-packages (0.16.0)\n",
            "Requirement already satisfied: scipy in /usr/local/lib/python3.11/dist-packages (from spicy) (1.13.1)\n",
            "Requirement already satisfied: numpy<2.3,>=1.22.4 in /usr/local/lib/python3.11/dist-packages (from scipy->spicy) (1.26.4)\n"
          ]
        }
      ]
    },
    {
      "cell_type": "code",
      "source": [
        "revised_medical_texts = [x.lower() for x in medical_texts]\n",
        "revised_medical_texts"
      ],
      "metadata": {
        "id": "hTyiK_Re79TK",
        "outputId": "9e6dfe40-6c9d-435b-d68a-8c37f82a4ba1",
        "colab": {
          "base_uri": "https://localhost:8080/"
        }
      },
      "execution_count": null,
      "outputs": [
        {
          "output_type": "execute_result",
          "data": {
            "text/plain": [
              "['diabetes mellitus (dm), commonly known as diabetes, is a group of metabolic disorders characterized by a high blood sugar level over a prolonged period of time.',\n",
              " 'symptoms of high blood sugar include frequent urination, increased thirst, and increased hunger.',\n",
              " 'cancer is a group of diseases involving abnormal cell growth with the potential to invade or spread to other parts of the body.',\n",
              " 'these contrast with benign tumors, which do not spread. treatment options may include surgery, radiation therapy, chemotherapy, or palliation.',\n",
              " 'hypertension, also known as high blood pressure (hbp), is a long-term medical condition in which the blood pressure in the arteries is persistently elevated.']"
            ]
          },
          "metadata": {},
          "execution_count": 4
        }
      ]
    },
    {
      "cell_type": "markdown",
      "source": [
        "2. Removing stopwords from the texts using a comprehensive medical stopword list - Eliminating non-useful common words in the Analysis."
      ],
      "metadata": {
        "id": "7GmdIUtMqctg"
      }
    },
    {
      "cell_type": "code",
      "source": [
        "import nltk                                     # importing nltk toolkit\n",
        "from nltk.corpus import stopwords               # importing stopword module from nltk\n",
        "nltk.download('stopwords')                      # downloading stopword dataset to llocal nltk installation\n",
        "english_stopwords = set(stopwords.words('english'))  # Getting list of English stopwords\n",
        "\n",
        "# Add domain-specific stopwords\n",
        "medical_stopwords = english_stopwords.union({\n",
        "    \"patient\", \"doctor\", \"mg\", \"ml\", \"tablet\", \"symptom\",\n",
        "    \"treatment\", \"disease\", \"prescription\", \"daily\", \"diagnosed\"\n",
        "    \"dose\", \"day\", \"result\", \"study\"\n",
        "})\n",
        "\n",
        "\n",
        "print (\"Comprehensive Medical Stopwords:\", medical_stopwords)"
      ],
      "metadata": {
        "colab": {
          "base_uri": "https://localhost:8080/"
        },
        "id": "YGMqE0DGotCP",
        "outputId": "f7de715d-5fb7-407d-d24e-edf5a6b44ba9"
      },
      "execution_count": null,
      "outputs": [
        {
          "output_type": "stream",
          "name": "stdout",
          "text": [
            "Comprehensive Medical Stopwords: {'shan', 'didn', \"shouldn't\", 'this', 's', 'when', 'he', 'too', 'under', 'above', 'wasn', 'through', 'at', 'has', 'd', 'have', 'me', 'up', \"weren't\", 'for', 'these', 'their', 'does', 'them', 'whom', 'we', 'after', 'him', 'in', \"won't\", 'patient', 'now', 'did', 'don', 'same', 'can', 'between', 'they', 'herself', \"don't\", 'the', 'she', 'of', 'because', 'nor', 'your', 'only', \"mightn't\", 'there', \"aren't\", 'itself', 'again', 'how', 'just', 'being', \"couldn't\", 'ourselves', 'day', 'yourselves', 'once', 'over', 'been', 'aren', 'further', 'during', 'm', 'until', 'and', 'my', 'that', 'so', 'out', 'it', 'a', \"should've\", 've', 'do', 'result', 'some', 'its', \"that'll\", \"isn't\", 'were', 'himself', 'our', 'off', 'is', 'very', \"hasn't\", 'should', \"doesn't\", 'o', 'on', \"mustn't\", 'doctor', \"you've\", \"didn't\", 'against', 'ain', 'to', 'any', 'hasn', 'be', \"needn't\", 'had', 'all', 'am', 'tablet', 'shouldn', 'ml', 'then', 'from', 'as', 'his', 'what', 'will', 'daily', 'y', \"you'll\", 'which', 'than', 'themselves', 'before', 'if', 'couldn', 'no', 'doesn', 'symptom', 'few', 'here', 'you', 'myself', 'those', 'by', 'why', 'hadn', 'but', 'theirs', 'll', \"she's\", 'doing', 'isn', 'yourself', \"wasn't\", 'treatment', 'needn', 't', 'mightn', 'are', 'her', 'other', 're', 'wouldn', 'study', 'both', 'each', 'down', 'own', 'was', 'having', 'where', 'not', 'about', 'who', 'most', \"wouldn't\", 'diagnoseddose', \"haven't\", 'hers', 'into', 'ours', 'disease', 'prescription', \"you'd\", 'yours', 'such', 'ma', 'mustn', \"you're\", 'an', \"it's\", 'mg', 'or', \"shan't\", 'i', 'while', 'won', 'below', 'with', 'more', 'haven', \"hadn't\", 'weren'}\n"
          ]
        },
        {
          "output_type": "stream",
          "name": "stderr",
          "text": [
            "[nltk_data] Downloading package stopwords to /root/nltk_data...\n",
            "[nltk_data]   Package stopwords is already up-to-date!\n"
          ]
        }
      ]
    },
    {
      "cell_type": "code",
      "source": [
        "revised_medical_texts2 = ' '.join([word for word in revised_medical_texts if word.lower() not in medical_stopwords])\n",
        "revised_medical_texts2"
      ],
      "metadata": {
        "id": "_0LVCogfFQJY",
        "outputId": "5b5caf91-9e09-42dc-f6df-a6e8b9019457",
        "colab": {
          "base_uri": "https://localhost:8080/",
          "height": 87
        }
      },
      "execution_count": null,
      "outputs": [
        {
          "output_type": "execute_result",
          "data": {
            "text/plain": [
              "'diabetes mellitus (dm), commonly known as diabetes, is a group of metabolic disorders characterized by a high blood sugar level over a prolonged period of time. symptoms of high blood sugar include frequent urination, increased thirst, and increased hunger. cancer is a group of diseases involving abnormal cell growth with the potential to invade or spread to other parts of the body. these contrast with benign tumors, which do not spread. treatment options may include surgery, radiation therapy, chemotherapy, or palliation. hypertension, also known as high blood pressure (hbp), is a long-term medical condition in which the blood pressure in the arteries is persistently elevated.'"
            ],
            "application/vnd.google.colaboratory.intrinsic+json": {
              "type": "string"
            }
          },
          "metadata": {},
          "execution_count": 6
        }
      ]
    },
    {
      "cell_type": "markdown",
      "source": [
        "3. Removing all punctuation from the texts (Simplifying the text for easier tokenization and analysis) - Regular Expression Filtering:"
      ],
      "metadata": {
        "id": "MA_KxmSJ2KLq"
      }
    },
    {
      "cell_type": "code",
      "source": [
        "import re\n",
        "np_medical_texts = []\n",
        "no_punct_medical_texts = re.sub(r'[^\\w\\s]','',revised_medical_texts2)\n",
        "np_medical_texts.append(no_punct_medical_texts)\n",
        "np_medical_texts"
      ],
      "metadata": {
        "colab": {
          "base_uri": "https://localhost:8080/"
        },
        "id": "HJuBdTpQ2edO",
        "outputId": "8213bd73-84cb-4de0-b9ee-cbaa60686524"
      },
      "execution_count": null,
      "outputs": [
        {
          "output_type": "execute_result",
          "data": {
            "text/plain": [
              "['diabetes mellitus dm commonly known as diabetes is a group of metabolic disorders characterized by a high blood sugar level over a prolonged period of time symptoms of high blood sugar include frequent urination increased thirst and increased hunger cancer is a group of diseases involving abnormal cell growth with the potential to invade or spread to other parts of the body these contrast with benign tumors which do not spread treatment options may include surgery radiation therapy chemotherapy or palliation hypertension also known as high blood pressure hbp is a longterm medical condition in which the blood pressure in the arteries is persistently elevated']"
            ]
          },
          "metadata": {},
          "execution_count": 7
        }
      ]
    },
    {
      "cell_type": "markdown",
      "source": [
        "4. Using regular expression to limit the datasets to the following keywords: ['diabetes', 'cancer', 'hypertension'] - limiting medical_texts to specific medical conditions for targeted analysis. (Tokenisation)"
      ],
      "metadata": {
        "id": "kF3vE13FFTXz"
      }
    },
    {
      "cell_type": "code",
      "source": [
        "nltk.download('punkt')           # Downloading necessary Tokenization data\n",
        "nltk.download('punkt_tab')\n",
        "from nltk.tokenize import sent_tokenize, word_tokenize"
      ],
      "metadata": {
        "colab": {
          "base_uri": "https://localhost:8080/"
        },
        "id": "Z8N_qepFNEgt",
        "outputId": "13383a30-0f44-4620-845d-bb76bfd1ce40"
      },
      "execution_count": null,
      "outputs": [
        {
          "output_type": "stream",
          "name": "stderr",
          "text": [
            "[nltk_data] Downloading package punkt to /root/nltk_data...\n",
            "[nltk_data]   Package punkt is already up-to-date!\n",
            "[nltk_data] Downloading package punkt_tab to /root/nltk_data...\n",
            "[nltk_data]   Package punkt_tab is already up-to-date!\n"
          ]
        }
      ]
    },
    {
      "cell_type": "code",
      "source": [
        "# Defining keywords\n",
        "keywords = ['diabetes', 'cancer', 'hypertension']\n",
        "\n",
        "# Creating regex pattern\n",
        "pattern = re.compile(r'\\b(?:' + '|'.join(keywords) + r')\\b', flags=re.IGNORECASE)\n",
        "\n",
        "# Filter texts that match the keywords\n",
        "filtered_texts = [text for text in np_medical_texts if pattern.search(text)]\n",
        "\n",
        "# Tokenizing sentences and highlighting matches\n",
        "tokenized_results = [\n",
        "    {\n",
        "        \"original_text\": text,\n",
        "        \"matched_keywords\": pattern.findall(text),\n",
        "        \"tokenized_sentences\": sent_tokenize(text),\n",
        "    }\n",
        "    for text in filtered_texts\n",
        "]\n",
        "\n",
        "# Print results\n",
        "for result in tokenized_results:\n",
        "    print(\"Original Text:\", result[\"original_text\"])\n",
        "    print(\"Matched Keywords:\", result[\"matched_keywords\"])\n",
        "    print(\"Tokenized Sentences:\", result[\"tokenized_sentences\"])\n",
        "    print(\"-\" * 50)"
      ],
      "metadata": {
        "colab": {
          "base_uri": "https://localhost:8080/"
        },
        "id": "REaO2mT_s-ew",
        "outputId": "ca8c941c-b302-484b-e9d9-99eaafc09416"
      },
      "execution_count": null,
      "outputs": [
        {
          "output_type": "stream",
          "name": "stdout",
          "text": [
            "Original Text: diabetes mellitus dm commonly known as diabetes is a group of metabolic disorders characterized by a high blood sugar level over a prolonged period of time symptoms of high blood sugar include frequent urination increased thirst and increased hunger cancer is a group of diseases involving abnormal cell growth with the potential to invade or spread to other parts of the body these contrast with benign tumors which do not spread treatment options may include surgery radiation therapy chemotherapy or palliation hypertension also known as high blood pressure hbp is a longterm medical condition in which the blood pressure in the arteries is persistently elevated\n",
            "Matched Keywords: ['diabetes', 'diabetes', 'cancer', 'hypertension']\n",
            "Tokenized Sentences: ['diabetes mellitus dm commonly known as diabetes is a group of metabolic disorders characterized by a high blood sugar level over a prolonged period of time symptoms of high blood sugar include frequent urination increased thirst and increased hunger cancer is a group of diseases involving abnormal cell growth with the potential to invade or spread to other parts of the body these contrast with benign tumors which do not spread treatment options may include surgery radiation therapy chemotherapy or palliation hypertension also known as high blood pressure hbp is a longterm medical condition in which the blood pressure in the arteries is persistently elevated']\n",
            "--------------------------------------------------\n"
          ]
        }
      ]
    },
    {
      "cell_type": "markdown",
      "source": [
        "Refining the Keywords search to include word before and after keyboard"
      ],
      "metadata": {
        "id": "JPeiwS7uzeHg"
      }
    },
    {
      "cell_type": "code",
      "source": [
        "# Defining keywords\n",
        "keywords = ['diabetes', 'cancer', 'hypertension']\n",
        "\n",
        "# Creating regex pattern\n",
        "pattern = re.compile(r'\\bdiabetes\\b(?!-)', flags=re.IGNORECASE)\n",
        "\n",
        "# Filter texts that match the keywords\n",
        "filtered_texts = [text for text in np_medical_texts if pattern.search(text)]\n",
        "\n",
        "# Tokenizing sentences and highlighting matches\n",
        "tokenized_results = [\n",
        "    {\n",
        "        \"original_text\": text,\n",
        "        \"matched_keywords\": pattern.findall(text),\n",
        "        \"tokenized_sentences\": sent_tokenize(text),\n",
        "    }\n",
        "    for text in filtered_texts\n",
        "]\n",
        "\n",
        "# Print results\n",
        "for result in tokenized_results:\n",
        "    print(\"Original Text:\", result[\"original_text\"])\n",
        "    print(\"Matched Keywords:\", result[\"matched_keywords\"])\n",
        "    print(\"Tokenized Sentences:\", result[\"tokenized_sentences\"])\n",
        "    print(\"-\" * 50)"
      ],
      "metadata": {
        "colab": {
          "base_uri": "https://localhost:8080/"
        },
        "id": "ua-RPt9mwUeP",
        "outputId": "f7f1ebcf-a7fd-4b57-d51a-81cef528860d"
      },
      "execution_count": null,
      "outputs": [
        {
          "output_type": "stream",
          "name": "stdout",
          "text": [
            "Original Text: diabetes mellitus dm commonly known as diabetes is a group of metabolic disorders characterized by a high blood sugar level over a prolonged period of time symptoms of high blood sugar include frequent urination increased thirst and increased hunger cancer is a group of diseases involving abnormal cell growth with the potential to invade or spread to other parts of the body these contrast with benign tumors which do not spread treatment options may include surgery radiation therapy chemotherapy or palliation hypertension also known as high blood pressure hbp is a longterm medical condition in which the blood pressure in the arteries is persistently elevated\n",
            "Matched Keywords: ['diabetes', 'diabetes']\n",
            "Tokenized Sentences: ['diabetes mellitus dm commonly known as diabetes is a group of metabolic disorders characterized by a high blood sugar level over a prolonged period of time symptoms of high blood sugar include frequent urination increased thirst and increased hunger cancer is a group of diseases involving abnormal cell growth with the potential to invade or spread to other parts of the body these contrast with benign tumors which do not spread treatment options may include surgery radiation therapy chemotherapy or palliation hypertension also known as high blood pressure hbp is a longterm medical condition in which the blood pressure in the arteries is persistently elevated']\n",
            "--------------------------------------------------\n"
          ]
        }
      ]
    },
    {
      "cell_type": "code",
      "source": [
        "import pandas as pd\n",
        "\n",
        "data = {\n",
        "    'id': [1, 2, 3, 4,5],\n",
        "    'revised_medical_texts' : ['diabetes mellitus (dm), commonly known as diabetes, is a group of metabolic disorders characterized by a high blood sugar level over a prolonged period of time.',\n",
        " 'symptoms of high blood sugar include frequent urination, increased thirst, and increased hunger.',\n",
        " 'cancer is a group of diseases involving abnormal cell growth with the potential to invade or spread to other parts of the body.',\n",
        " 'these contrast with benign tumors, which do not spread. treatment options may include surgery, radiation therapy, chemotherapy, or palliation.',\n",
        " 'hypertension, also known as high blood pressure (hbp), is a long-term medical condition in which the blood pressure in the arteries is persistently elevated.']\n",
        "}\n",
        "df = pd.DataFrame(data)\n",
        "\n",
        "# Define the keywords\n",
        "keywords = ['diabetes', 'cancer', 'hypertension']\n",
        "\n",
        "# Create a regex pattern\n",
        "pattern = '|'.join(keywords)  # \"diabetes|cancer|hypertension\"\n",
        "\n",
        "# Filter the dataset\n",
        "filtered_df = df[df['revised_medical_texts'].str.contains(pattern, case=False, na=False)]  # case-insensitive\n",
        "\n",
        "print(filtered_df)"
      ],
      "metadata": {
        "colab": {
          "base_uri": "https://localhost:8080/"
        },
        "id": "F3M1rKMewVI5",
        "outputId": "4589ab1b-2cd2-4766-c650-ad5e6ae9516d"
      },
      "execution_count": null,
      "outputs": [
        {
          "output_type": "stream",
          "name": "stdout",
          "text": [
            "   id                              revised_medical_texts\n",
            "0   1  diabetes mellitus (dm), commonly known as diab...\n",
            "2   3  cancer is a group of diseases involving abnorm...\n",
            "4   5  hypertension, also known as high blood pressur...\n"
          ]
        }
      ]
    },
    {
      "cell_type": "markdown",
      "source": [],
      "metadata": {
        "id": "2t5sYkId3SvO"
      }
    },
    {
      "cell_type": "code",
      "source": [
        "word = word_tokenize(np_medical_texts[0])\n",
        "word"
      ],
      "metadata": {
        "colab": {
          "base_uri": "https://localhost:8080/"
        },
        "id": "vCEIdtHAQVae",
        "outputId": "a9fc7ea4-ca5d-45db-a554-fd2376f4a46a"
      },
      "execution_count": null,
      "outputs": [
        {
          "output_type": "execute_result",
          "data": {
            "text/plain": [
              "['diabetes',\n",
              " 'mellitus',\n",
              " 'dm',\n",
              " 'commonly',\n",
              " 'known',\n",
              " 'as',\n",
              " 'diabetes',\n",
              " 'is',\n",
              " 'a',\n",
              " 'group',\n",
              " 'of',\n",
              " 'metabolic',\n",
              " 'disorders',\n",
              " 'characterized',\n",
              " 'by',\n",
              " 'a',\n",
              " 'high',\n",
              " 'blood',\n",
              " 'sugar',\n",
              " 'level',\n",
              " 'over',\n",
              " 'a',\n",
              " 'prolonged',\n",
              " 'period',\n",
              " 'of',\n",
              " 'time',\n",
              " 'symptoms',\n",
              " 'of',\n",
              " 'high',\n",
              " 'blood',\n",
              " 'sugar',\n",
              " 'include',\n",
              " 'frequent',\n",
              " 'urination',\n",
              " 'increased',\n",
              " 'thirst',\n",
              " 'and',\n",
              " 'increased',\n",
              " 'hunger',\n",
              " 'cancer',\n",
              " 'is',\n",
              " 'a',\n",
              " 'group',\n",
              " 'of',\n",
              " 'diseases',\n",
              " 'involving',\n",
              " 'abnormal',\n",
              " 'cell',\n",
              " 'growth',\n",
              " 'with',\n",
              " 'the',\n",
              " 'potential',\n",
              " 'to',\n",
              " 'invade',\n",
              " 'or',\n",
              " 'spread',\n",
              " 'to',\n",
              " 'other',\n",
              " 'parts',\n",
              " 'of',\n",
              " 'the',\n",
              " 'body',\n",
              " 'these',\n",
              " 'contrast',\n",
              " 'with',\n",
              " 'benign',\n",
              " 'tumors',\n",
              " 'which',\n",
              " 'do',\n",
              " 'not',\n",
              " 'spread',\n",
              " 'treatment',\n",
              " 'options',\n",
              " 'may',\n",
              " 'include',\n",
              " 'surgery',\n",
              " 'radiation',\n",
              " 'therapy',\n",
              " 'chemotherapy',\n",
              " 'or',\n",
              " 'palliation',\n",
              " 'hypertension',\n",
              " 'also',\n",
              " 'known',\n",
              " 'as',\n",
              " 'high',\n",
              " 'blood',\n",
              " 'pressure',\n",
              " 'hbp',\n",
              " 'is',\n",
              " 'a',\n",
              " 'longterm',\n",
              " 'medical',\n",
              " 'condition',\n",
              " 'in',\n",
              " 'which',\n",
              " 'the',\n",
              " 'blood',\n",
              " 'pressure',\n",
              " 'in',\n",
              " 'the',\n",
              " 'arteries',\n",
              " 'is',\n",
              " 'persistently',\n",
              " 'elevated']"
            ]
          },
          "metadata": {},
          "execution_count": 12
        }
      ]
    },
    {
      "cell_type": "markdown",
      "source": [
        "5. Lemmatization: Reducing words to their base or dictionary form. (Normalize word forms their variations are processed as a single item) - Stopword Removal:"
      ],
      "metadata": {
        "id": "nQ5pYqdUVouf"
      }
    },
    {
      "cell_type": "markdown",
      "source": [
        "# Stemming"
      ],
      "metadata": {
        "id": "dGl5PzPL_nKM"
      }
    },
    {
      "cell_type": "code",
      "source": [
        "from nltk.stem import PorterStemmer\n",
        "ps = PorterStemmer()                            # Initializing Porter Stemmer\n",
        "\n",
        "for word in words[0]:\n",
        "  print(word, \":\", ps.stem(word))"
      ],
      "metadata": {
        "colab": {
          "base_uri": "https://localhost:8080/"
        },
        "id": "d5IQ9wckR2WV",
        "outputId": "7a331b60-f558-4c9f-cd7e-6d9219ade1d7"
      },
      "execution_count": null,
      "outputs": [
        {
          "output_type": "stream",
          "name": "stdout",
          "text": [
            "diabetes : diabet\n",
            "mellitus : mellitu\n",
            "dm : dm\n",
            "commonly : commonli\n",
            "known : known\n",
            "as : as\n",
            "diabetes : diabet\n",
            "is : is\n",
            "a : a\n",
            "group : group\n",
            "of : of\n",
            "metabolic : metabol\n",
            "disorders : disord\n",
            "characterized : character\n",
            "by : by\n",
            "a : a\n",
            "high : high\n",
            "blood : blood\n",
            "sugar : sugar\n",
            "level : level\n",
            "over : over\n",
            "a : a\n",
            "prolonged : prolong\n",
            "period : period\n",
            "of : of\n",
            "time : time\n",
            "symptoms : symptom\n",
            "of : of\n",
            "high : high\n",
            "blood : blood\n",
            "sugar : sugar\n",
            "include : includ\n",
            "frequent : frequent\n",
            "urination : urin\n",
            "increased : increas\n",
            "thirst : thirst\n",
            "and : and\n",
            "increased : increas\n",
            "hunger : hunger\n",
            "cancer : cancer\n",
            "is : is\n",
            "a : a\n",
            "group : group\n",
            "of : of\n",
            "diseases : diseas\n",
            "involving : involv\n",
            "abnormal : abnorm\n",
            "cell : cell\n",
            "growth : growth\n",
            "with : with\n",
            "the : the\n",
            "potential : potenti\n",
            "to : to\n",
            "invade : invad\n",
            "or : or\n",
            "spread : spread\n",
            "to : to\n",
            "other : other\n",
            "parts : part\n",
            "of : of\n",
            "the : the\n",
            "body : bodi\n",
            "these : these\n",
            "contrast : contrast\n",
            "with : with\n",
            "benign : benign\n",
            "tumors : tumor\n",
            "which : which\n",
            "do : do\n",
            "not : not\n",
            "spread : spread\n",
            "treatment : treatment\n",
            "options : option\n",
            "may : may\n",
            "include : includ\n",
            "surgery : surgeri\n",
            "radiation : radiat\n",
            "therapy : therapi\n",
            "chemotherapy : chemotherapi\n",
            "or : or\n",
            "palliation : palliat\n",
            "hypertension : hypertens\n",
            "also : also\n",
            "known : known\n",
            "as : as\n",
            "high : high\n",
            "blood : blood\n",
            "pressure : pressur\n",
            "hbp : hbp\n",
            "is : is\n",
            "a : a\n",
            "longterm : longterm\n",
            "medical : medic\n",
            "condition : condit\n",
            "in : in\n",
            "which : which\n",
            "the : the\n",
            "blood : blood\n",
            "pressure : pressur\n",
            "in : in\n",
            "the : the\n",
            "arteries : arteri\n",
            "is : is\n",
            "persistently : persist\n",
            "elevated : elev\n"
          ]
        }
      ]
    },
    {
      "cell_type": "markdown",
      "source": [
        "Lemmatization is similar to Stemming, but it is better because it uses Dictionary in reducing words to their meaningful root form unlike Stemming that can reduce words to root form that does not make sense."
      ],
      "metadata": {
        "id": "LTgxfYy9ZOnp"
      }
    },
    {
      "cell_type": "markdown",
      "source": [
        "# Lemmatization"
      ],
      "metadata": {
        "id": "4hRSn1lo_ewt"
      }
    },
    {
      "cell_type": "code",
      "source": [
        "nltk.download('wordnet')                                     # downloading wordnet for Lemmatization\n",
        "from nltk.stem import WordNetLemmatizer\n",
        "lemmatizer = WordNetLemmatizer()\n",
        "for word in words[0]:\n",
        "  print(word, \":\", lemmatizer.lemmatize(word))"
      ],
      "metadata": {
        "colab": {
          "base_uri": "https://localhost:8080/"
        },
        "id": "iG7FohJRZtdk",
        "outputId": "a9598648-55ca-48fe-9adb-8a1acf17ba18"
      },
      "execution_count": null,
      "outputs": [
        {
          "output_type": "stream",
          "name": "stdout",
          "text": [
            "diabetes : diabetes\n",
            "mellitus : mellitus\n",
            "dm : dm\n",
            "commonly : commonly\n",
            "known : known\n",
            "as : a\n",
            "diabetes : diabetes\n",
            "is : is\n",
            "a : a\n",
            "group : group\n",
            "of : of\n",
            "metabolic : metabolic\n",
            "disorders : disorder\n",
            "characterized : characterized\n",
            "by : by\n",
            "a : a\n",
            "high : high\n",
            "blood : blood\n",
            "sugar : sugar\n",
            "level : level\n",
            "over : over\n",
            "a : a\n",
            "prolonged : prolonged\n",
            "period : period\n",
            "of : of\n",
            "time : time\n",
            "symptoms : symptom\n",
            "of : of\n",
            "high : high\n",
            "blood : blood\n",
            "sugar : sugar\n",
            "include : include\n",
            "frequent : frequent\n",
            "urination : urination\n",
            "increased : increased\n",
            "thirst : thirst\n",
            "and : and\n",
            "increased : increased\n",
            "hunger : hunger\n",
            "cancer : cancer\n",
            "is : is\n",
            "a : a\n",
            "group : group\n",
            "of : of\n",
            "diseases : disease\n",
            "involving : involving\n",
            "abnormal : abnormal\n",
            "cell : cell\n",
            "growth : growth\n",
            "with : with\n",
            "the : the\n",
            "potential : potential\n",
            "to : to\n",
            "invade : invade\n",
            "or : or\n",
            "spread : spread\n",
            "to : to\n",
            "other : other\n",
            "parts : part\n",
            "of : of\n",
            "the : the\n",
            "body : body\n",
            "these : these\n",
            "contrast : contrast\n",
            "with : with\n",
            "benign : benign\n",
            "tumors : tumor\n",
            "which : which\n",
            "do : do\n",
            "not : not\n",
            "spread : spread\n",
            "treatment : treatment\n",
            "options : option\n",
            "may : may\n",
            "include : include\n",
            "surgery : surgery\n",
            "radiation : radiation\n",
            "therapy : therapy\n",
            "chemotherapy : chemotherapy\n",
            "or : or\n",
            "palliation : palliation\n",
            "hypertension : hypertension\n",
            "also : also\n",
            "known : known\n",
            "as : a\n",
            "high : high\n",
            "blood : blood\n",
            "pressure : pressure\n",
            "hbp : hbp\n",
            "is : is\n",
            "a : a\n",
            "longterm : longterm\n",
            "medical : medical\n",
            "condition : condition\n",
            "in : in\n",
            "which : which\n",
            "the : the\n",
            "blood : blood\n",
            "pressure : pressure\n",
            "in : in\n",
            "the : the\n",
            "arteries : artery\n",
            "is : is\n",
            "persistently : persistently\n",
            "elevated : elevated\n"
          ]
        },
        {
          "output_type": "stream",
          "name": "stderr",
          "text": [
            "[nltk_data] Downloading package wordnet to /root/nltk_data...\n",
            "[nltk_data]   Package wordnet is already up-to-date!\n"
          ]
        }
      ]
    },
    {
      "cell_type": "markdown",
      "source": [
        "Bonus - Comprehensive Preprocessing Function:\n",
        "\n",
        "Create a function you can call it clean_medical_text(text) that incorporates all the preprocessing steps: normalization, punctuation removal, keyword filtering, lemmatization, and stopword removal. Objective: Produce a clean output from any given medical text, demonstrating how to streamline these preprocessing steps into a single, reusable function."
      ],
      "metadata": {
        "id": "xQLp1yWScQq2"
      }
    },
    {
      "cell_type": "code",
      "source": [
        "import re\n",
        "import nltk\n",
        "from nltk.corpus import stopwords\n",
        "from nltk.tokenize import word_tokenize, sent_tokenize\n",
        "from nltk.stem import WordNetLemmatizer\n",
        "\n",
        "# Ensure necessary NLTK resources are downloaded\n",
        "nltk.download('stopwords')\n",
        "nltk.download('punkt')\n",
        "nltk.download('wordnet')\n",
        "\n",
        "# Define the function\n",
        "def clean_medical_text(text):\n",
        "    \"\"\"\n",
        "    Preprocesses medical text by normalizing, removing punctuation,\n",
        "    filtering keywords, lemmatizing, and removing stopwords.\n",
        "\n",
        "    Parameters:\n",
        "        text (str): The input medical text.\n",
        "\n",
        "    Returns:\n",
        "        dict: Contains cleaned text, matched keywords, and tokenized sentences.\n",
        "    \"\"\"\n",
        "    # Normalization: Convert to lowercase\n",
        "    text = text.lower()\n",
        "\n",
        "    # Define comprehensive stopwords (English + medical-specific)\n",
        "    english_stopwords = set(stopwords.words('english'))\n",
        "    medical_stopwords = english_stopwords.union({\n",
        "        \"patient\", \"doctor\", \"mg\", \"ml\", \"tablet\", \"symptom\",\n",
        "        \"treatment\", \"disease\", \"prescription\", \"daily\", \"diagnosed\",\n",
        "        \"dose\", \"day\", \"result\", \"study\"\n",
        "    })\n",
        "\n",
        "    # Remove punctuation\n",
        "    text = re.sub(r'[^\\w\\s]', '', text)\n",
        "\n",
        "    # Tokenize the text into words\n",
        "    words = word_tokenize(text)\n",
        "\n",
        "    # Remove stopwords\n",
        "    words = [word for word in words if word not in medical_stopwords]\n",
        "\n",
        "    # Lemmatization\n",
        "    lemmatizer = WordNetLemmatizer()\n",
        "    lemmatized_words = [lemmatizer.lemmatize(word) for word in words]\n",
        "\n",
        "    # Reconstruct the cleaned text\n",
        "    cleaned_text = ' '.join(lemmatized_words)\n",
        "\n",
        "    # Define keywords for filtering\n",
        "    keywords = ['diabetes', 'cancer', 'hypertension']\n",
        "    pattern = re.compile(r'\\b(?:' + '|'.join(keywords) + r')\\b', flags=re.IGNORECASE)\n",
        "\n",
        "    # Filter for keywords and tokenize sentences\n",
        "    matched_keywords = pattern.findall(cleaned_text)\n",
        "    tokenized_sentences = sent_tokenize(cleaned_text)\n",
        "\n",
        "    # Return results as a dictionary\n",
        "    return {\n",
        "        \"cleaned_text\": cleaned_text,\n",
        "        \"matched_keywords\": matched_keywords,\n",
        "        \"tokenized_sentences\": tokenized_sentences\n",
        "    }\n",
        "\n",
        "# Example usage\n",
        "if __name__ == \"__main__\":\n",
        "    medical_texts = [\n",
        "        \"The patient was diagnosed with diabetes and hypertension.\",\n",
        "        \"Cancer treatment is ongoing.\",\n",
        "        \"The prescribed dose is 500mg daily for the patient.\",\n",
        "        \"No significant findings were noted in the study.\"\n",
        "    ]\n",
        "\n",
        "    # Apply the function to each medical text\n",
        "    for text in medical_texts:\n",
        "        result = clean_medical_text(text)\n",
        "        print(\"Original Text:\", text)\n",
        "        print(\"Cleaned Text:\", result[\"cleaned_text\"])\n",
        "        print(\"Matched Keywords:\", result[\"matched_keywords\"])\n",
        "        print(\"Tokenized Sentences:\", result[\"tokenized_sentences\"])\n",
        "        print(\"-\" * 50)\n"
      ],
      "metadata": {
        "colab": {
          "base_uri": "https://localhost:8080/"
        },
        "id": "zKdRiz2NCnQu",
        "outputId": "19ca6371-f9fd-426b-948f-18cf31241c6d"
      },
      "execution_count": null,
      "outputs": [
        {
          "output_type": "stream",
          "name": "stdout",
          "text": [
            "Original Text: The patient was diagnosed with diabetes and hypertension.\n",
            "Cleaned Text: diabetes hypertension\n",
            "Matched Keywords: ['diabetes', 'hypertension']\n",
            "Tokenized Sentences: ['diabetes hypertension']\n",
            "--------------------------------------------------\n",
            "Original Text: Cancer treatment is ongoing.\n",
            "Cleaned Text: cancer ongoing\n",
            "Matched Keywords: ['cancer']\n",
            "Tokenized Sentences: ['cancer ongoing']\n",
            "--------------------------------------------------\n",
            "Original Text: The prescribed dose is 500mg daily for the patient.\n",
            "Cleaned Text: prescribed 500mg\n",
            "Matched Keywords: []\n",
            "Tokenized Sentences: ['prescribed 500mg']\n",
            "--------------------------------------------------\n",
            "Original Text: No significant findings were noted in the study.\n",
            "Cleaned Text: significant finding noted\n",
            "Matched Keywords: []\n",
            "Tokenized Sentences: ['significant finding noted']\n",
            "--------------------------------------------------\n"
          ]
        },
        {
          "output_type": "stream",
          "name": "stderr",
          "text": [
            "[nltk_data] Downloading package stopwords to /root/nltk_data...\n",
            "[nltk_data]   Package stopwords is already up-to-date!\n",
            "[nltk_data] Downloading package punkt to /root/nltk_data...\n",
            "[nltk_data]   Package punkt is already up-to-date!\n",
            "[nltk_data] Downloading package wordnet to /root/nltk_data...\n",
            "[nltk_data]   Package wordnet is already up-to-date!\n"
          ]
        }
      ]
    }
  ]
}